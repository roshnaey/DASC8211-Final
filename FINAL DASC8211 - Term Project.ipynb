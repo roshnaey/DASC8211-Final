{
 "cells": [
  {
   "cell_type": "markdown",
   "metadata": {},
   "source": [
    "#### Roshnaey Khattak\n",
    "DASC 8211 Term Project"
   ]
  },
  {
   "cell_type": "markdown",
   "metadata": {},
   "source": [
    "#### Step One - Data Acquisition\n",
    "I will begin this analysis by importing and calling any necessary libraries. "
   ]
  },
  {
   "cell_type": "code",
   "execution_count": 2,
   "metadata": {},
   "outputs": [],
   "source": [
    "import pandas as pd\n",
    "import numpy as np\n",
    "import matplotlib.pyplot as plt"
   ]
  },
  {
   "cell_type": "markdown",
   "metadata": {},
   "source": [
    "Next, I will load the data and view the dimensions. \n",
    "The data was obtained through a Kaggle search for information on life expectancy and immunization information. \n",
    "The data can be found [here](https://www.kaggle.com/kumarajarshi/life-expectancy-who)."
   ]
  },
  {
   "cell_type": "code",
   "execution_count": 3,
   "metadata": {},
   "outputs": [],
   "source": [
    "filepath = \"/Users/roshnaey/Desktop/Life Expectancy Data.csv\"\n",
    "df = pd.read_csv(filepath)\n",
    "df.columns = [\"country\", \"year\", \"status\", \"lifeExpectancy\", \n",
    "              \"adultMortality\", \"infantDeaths\", \"alcohol\", \n",
    "              \"percentageExpenditure\", \"hepatitisB\", \"measles\", \"BMI\", \n",
    "              \"underFiveDeaths\", \"polio\", \"totalExpenditure\", \n",
    "              \"diphtheria\", \"HIV_AIDS\", \"GDP\", \"population\", \n",
    "              \"thinness_10_19\", \"thinness_5-9\", \n",
    "              \"incomeCompositionOfResources\", \"schooling\"]"
   ]
  },
  {
   "cell_type": "markdown",
   "metadata": {},
   "source": [
    "#### Step Two - Exploratory Data Analysis"
   ]
  },
  {
   "cell_type": "markdown",
   "metadata": {},
   "source": [
    "Next, I will report general information on the data. This includes:\n",
    "- the number of rows and columns in the dataframe\n",
    "- the first few observations of the dataset using the data.head() function\n",
    "- descriptive/summary statistics for the variables."
   ]
  },
  {
   "cell_type": "code",
   "execution_count": 4,
   "metadata": {},
   "outputs": [
    {
     "name": "stdout",
     "output_type": "stream",
     "text": [
      "Number of rows: 2938\n",
      "Number of columns: 22\n"
     ]
    }
   ],
   "source": [
    "dfrows = len(df.axes[0])\n",
    "dfcols = len(df.axes[1])\n",
    "print(\"Number of rows: \" + str(dfrows))\n",
    "print(\"Number of columns: \" + str(dfcols))"
   ]
  },
  {
   "cell_type": "code",
   "execution_count": 5,
   "metadata": {
    "scrolled": true
   },
   "outputs": [
    {
     "data": {
      "text/html": [
       "<div>\n",
       "<style scoped>\n",
       "    .dataframe tbody tr th:only-of-type {\n",
       "        vertical-align: middle;\n",
       "    }\n",
       "\n",
       "    .dataframe tbody tr th {\n",
       "        vertical-align: top;\n",
       "    }\n",
       "\n",
       "    .dataframe thead th {\n",
       "        text-align: right;\n",
       "    }\n",
       "</style>\n",
       "<table border=\"1\" class=\"dataframe\">\n",
       "  <thead>\n",
       "    <tr style=\"text-align: right;\">\n",
       "      <th></th>\n",
       "      <th>country</th>\n",
       "      <th>year</th>\n",
       "      <th>status</th>\n",
       "      <th>lifeExpectancy</th>\n",
       "      <th>adultMortality</th>\n",
       "      <th>infantDeaths</th>\n",
       "      <th>alcohol</th>\n",
       "      <th>percentageExpenditure</th>\n",
       "      <th>hepatitisB</th>\n",
       "      <th>measles</th>\n",
       "      <th>...</th>\n",
       "      <th>polio</th>\n",
       "      <th>totalExpenditure</th>\n",
       "      <th>diphtheria</th>\n",
       "      <th>HIV_AIDS</th>\n",
       "      <th>GDP</th>\n",
       "      <th>population</th>\n",
       "      <th>thinness_10_19</th>\n",
       "      <th>thinness_5-9</th>\n",
       "      <th>incomeCompositionOfResources</th>\n",
       "      <th>schooling</th>\n",
       "    </tr>\n",
       "  </thead>\n",
       "  <tbody>\n",
       "    <tr>\n",
       "      <th>0</th>\n",
       "      <td>Afghanistan</td>\n",
       "      <td>2015</td>\n",
       "      <td>Developing</td>\n",
       "      <td>65.0</td>\n",
       "      <td>263.0</td>\n",
       "      <td>62</td>\n",
       "      <td>0.01</td>\n",
       "      <td>71.279624</td>\n",
       "      <td>65.0</td>\n",
       "      <td>1154</td>\n",
       "      <td>...</td>\n",
       "      <td>6.0</td>\n",
       "      <td>8.16</td>\n",
       "      <td>65.0</td>\n",
       "      <td>0.1</td>\n",
       "      <td>584.259210</td>\n",
       "      <td>33736494.0</td>\n",
       "      <td>17.2</td>\n",
       "      <td>17.3</td>\n",
       "      <td>0.479</td>\n",
       "      <td>10.1</td>\n",
       "    </tr>\n",
       "    <tr>\n",
       "      <th>1</th>\n",
       "      <td>Afghanistan</td>\n",
       "      <td>2014</td>\n",
       "      <td>Developing</td>\n",
       "      <td>59.9</td>\n",
       "      <td>271.0</td>\n",
       "      <td>64</td>\n",
       "      <td>0.01</td>\n",
       "      <td>73.523582</td>\n",
       "      <td>62.0</td>\n",
       "      <td>492</td>\n",
       "      <td>...</td>\n",
       "      <td>58.0</td>\n",
       "      <td>8.18</td>\n",
       "      <td>62.0</td>\n",
       "      <td>0.1</td>\n",
       "      <td>612.696514</td>\n",
       "      <td>327582.0</td>\n",
       "      <td>17.5</td>\n",
       "      <td>17.5</td>\n",
       "      <td>0.476</td>\n",
       "      <td>10.0</td>\n",
       "    </tr>\n",
       "    <tr>\n",
       "      <th>2</th>\n",
       "      <td>Afghanistan</td>\n",
       "      <td>2013</td>\n",
       "      <td>Developing</td>\n",
       "      <td>59.9</td>\n",
       "      <td>268.0</td>\n",
       "      <td>66</td>\n",
       "      <td>0.01</td>\n",
       "      <td>73.219243</td>\n",
       "      <td>64.0</td>\n",
       "      <td>430</td>\n",
       "      <td>...</td>\n",
       "      <td>62.0</td>\n",
       "      <td>8.13</td>\n",
       "      <td>64.0</td>\n",
       "      <td>0.1</td>\n",
       "      <td>631.744976</td>\n",
       "      <td>31731688.0</td>\n",
       "      <td>17.7</td>\n",
       "      <td>17.7</td>\n",
       "      <td>0.470</td>\n",
       "      <td>9.9</td>\n",
       "    </tr>\n",
       "    <tr>\n",
       "      <th>3</th>\n",
       "      <td>Afghanistan</td>\n",
       "      <td>2012</td>\n",
       "      <td>Developing</td>\n",
       "      <td>59.5</td>\n",
       "      <td>272.0</td>\n",
       "      <td>69</td>\n",
       "      <td>0.01</td>\n",
       "      <td>78.184215</td>\n",
       "      <td>67.0</td>\n",
       "      <td>2787</td>\n",
       "      <td>...</td>\n",
       "      <td>67.0</td>\n",
       "      <td>8.52</td>\n",
       "      <td>67.0</td>\n",
       "      <td>0.1</td>\n",
       "      <td>669.959000</td>\n",
       "      <td>3696958.0</td>\n",
       "      <td>17.9</td>\n",
       "      <td>18.0</td>\n",
       "      <td>0.463</td>\n",
       "      <td>9.8</td>\n",
       "    </tr>\n",
       "    <tr>\n",
       "      <th>4</th>\n",
       "      <td>Afghanistan</td>\n",
       "      <td>2011</td>\n",
       "      <td>Developing</td>\n",
       "      <td>59.2</td>\n",
       "      <td>275.0</td>\n",
       "      <td>71</td>\n",
       "      <td>0.01</td>\n",
       "      <td>7.097109</td>\n",
       "      <td>68.0</td>\n",
       "      <td>3013</td>\n",
       "      <td>...</td>\n",
       "      <td>68.0</td>\n",
       "      <td>7.87</td>\n",
       "      <td>68.0</td>\n",
       "      <td>0.1</td>\n",
       "      <td>63.537231</td>\n",
       "      <td>2978599.0</td>\n",
       "      <td>18.2</td>\n",
       "      <td>18.2</td>\n",
       "      <td>0.454</td>\n",
       "      <td>9.5</td>\n",
       "    </tr>\n",
       "  </tbody>\n",
       "</table>\n",
       "<p>5 rows × 22 columns</p>\n",
       "</div>"
      ],
      "text/plain": [
       "       country  year      status  lifeExpectancy  adultMortality  \\\n",
       "0  Afghanistan  2015  Developing            65.0           263.0   \n",
       "1  Afghanistan  2014  Developing            59.9           271.0   \n",
       "2  Afghanistan  2013  Developing            59.9           268.0   \n",
       "3  Afghanistan  2012  Developing            59.5           272.0   \n",
       "4  Afghanistan  2011  Developing            59.2           275.0   \n",
       "\n",
       "   infantDeaths  alcohol  percentageExpenditure  hepatitisB  measles  ...  \\\n",
       "0            62     0.01              71.279624        65.0     1154  ...   \n",
       "1            64     0.01              73.523582        62.0      492  ...   \n",
       "2            66     0.01              73.219243        64.0      430  ...   \n",
       "3            69     0.01              78.184215        67.0     2787  ...   \n",
       "4            71     0.01               7.097109        68.0     3013  ...   \n",
       "\n",
       "   polio  totalExpenditure  diphtheria  HIV_AIDS         GDP  population  \\\n",
       "0    6.0              8.16        65.0       0.1  584.259210  33736494.0   \n",
       "1   58.0              8.18        62.0       0.1  612.696514    327582.0   \n",
       "2   62.0              8.13        64.0       0.1  631.744976  31731688.0   \n",
       "3   67.0              8.52        67.0       0.1  669.959000   3696958.0   \n",
       "4   68.0              7.87        68.0       0.1   63.537231   2978599.0   \n",
       "\n",
       "   thinness_10_19  thinness_5-9  incomeCompositionOfResources  schooling  \n",
       "0            17.2          17.3                         0.479       10.1  \n",
       "1            17.5          17.5                         0.476       10.0  \n",
       "2            17.7          17.7                         0.470        9.9  \n",
       "3            17.9          18.0                         0.463        9.8  \n",
       "4            18.2          18.2                         0.454        9.5  \n",
       "\n",
       "[5 rows x 22 columns]"
      ]
     },
     "execution_count": 5,
     "metadata": {},
     "output_type": "execute_result"
    }
   ],
   "source": [
    "df.head()"
   ]
  },
  {
   "cell_type": "code",
   "execution_count": 6,
   "metadata": {},
   "outputs": [
    {
     "name": "stdout",
     "output_type": "stream",
     "text": [
      "              year  lifeExpectancy  adultMortality  infantDeaths      alcohol  \\\n",
      "count  2938.000000     2928.000000     2928.000000   2938.000000  2744.000000   \n",
      "mean   2007.518720       69.224932      164.796448     30.303948     4.602861   \n",
      "std       4.613841        9.523867      124.292079    117.926501     4.052413   \n",
      "min    2000.000000       36.300000        1.000000      0.000000     0.010000   \n",
      "25%    2004.000000       63.100000       74.000000      0.000000     0.877500   \n",
      "50%    2008.000000       72.100000      144.000000      3.000000     3.755000   \n",
      "75%    2012.000000       75.700000      228.000000     22.000000     7.702500   \n",
      "max    2015.000000       89.000000      723.000000   1800.000000    17.870000   \n",
      "\n",
      "       percentageExpenditure   hepatitisB        measles          BMI  \\\n",
      "count            2938.000000  2385.000000    2938.000000  2904.000000   \n",
      "mean              738.251295    80.940461    2419.592240    38.321247   \n",
      "std              1987.914858    25.070016   11467.272489    20.044034   \n",
      "min                 0.000000     1.000000       0.000000     1.000000   \n",
      "25%                 4.685343    77.000000       0.000000    19.300000   \n",
      "50%                64.912906    92.000000      17.000000    43.500000   \n",
      "75%               441.534144    97.000000     360.250000    56.200000   \n",
      "max             19479.911610    99.000000  212183.000000    87.300000   \n",
      "\n",
      "       underFiveDeaths        polio  totalExpenditure   diphtheria  \\\n",
      "count      2938.000000  2919.000000        2712.00000  2919.000000   \n",
      "mean         42.035739    82.550188           5.93819    82.324084   \n",
      "std         160.445548    23.428046           2.49832    23.716912   \n",
      "min           0.000000     3.000000           0.37000     2.000000   \n",
      "25%           0.000000    78.000000           4.26000    78.000000   \n",
      "50%           4.000000    93.000000           5.75500    93.000000   \n",
      "75%          28.000000    97.000000           7.49250    97.000000   \n",
      "max        2500.000000    99.000000          17.60000    99.000000   \n",
      "\n",
      "          HIV_AIDS            GDP    population  thinness_10_19  thinness_5-9  \\\n",
      "count  2938.000000    2490.000000  2.286000e+03     2904.000000   2904.000000   \n",
      "mean      1.742103    7483.158469  1.275338e+07        4.839704      4.870317   \n",
      "std       5.077785   14270.169342  6.101210e+07        4.420195      4.508882   \n",
      "min       0.100000       1.681350  3.400000e+01        0.100000      0.100000   \n",
      "25%       0.100000     463.935626  1.957932e+05        1.600000      1.500000   \n",
      "50%       0.100000    1766.947595  1.386542e+06        3.300000      3.300000   \n",
      "75%       0.800000    5910.806335  7.420359e+06        7.200000      7.200000   \n",
      "max      50.600000  119172.741800  1.293859e+09       27.700000     28.600000   \n",
      "\n",
      "       incomeCompositionOfResources    schooling  \n",
      "count                   2771.000000  2775.000000  \n",
      "mean                       0.627551    11.992793  \n",
      "std                        0.210904     3.358920  \n",
      "min                        0.000000     0.000000  \n",
      "25%                        0.493000    10.100000  \n",
      "50%                        0.677000    12.300000  \n",
      "75%                        0.779000    14.300000  \n",
      "max                        0.948000    20.700000  \n"
     ]
    }
   ],
   "source": [
    "summaryStatistics = df.describe()\n",
    "print (summaryStatistics)"
   ]
  },
  {
   "cell_type": "markdown",
   "metadata": {},
   "source": [
    "In this dataset, there are a few variables that I am unsure of the meaning of. These include:\n",
    "- Adult Mortality\n",
    "    - I am not entirely sure what exactly the variable represents, the range is too high to be a mortality rate as a probability (the majority of the values are above 100), but the numbers are also too low to represent number of deaths. \n",
    "- Infant Deaths\n",
    "    - The same issue is seen with the infant deaths variable. \n",
    "- BMI\n",
    "    - The general BMI range is smaller than what is represented in the dataset. Most scales go up to 40, but the maximum value for this datset is over 80. \n",
    "- Thinness variables\n",
    "    - I am generally unsure of what these varaibles mean.\n",
    "- Schooling\n",
    "    - As with a few of the previously mentioned variables, the scale for this variable is confusing."
   ]
  },
  {
   "cell_type": "markdown",
   "metadata": {},
   "source": [
    "To determine what each variable could mean, I returned to the original data's author on Kaggle. Thankfully, they included extensive details on not only the data as a whole, but also each individual variable. The information is available on the [original Kaggle page](https://www.kaggle.com/kumarajarshi/life-expectancy-who). For my own reference, I will include a short description below."
   ]
  },
  {
   "cell_type": "markdown",
   "metadata": {},
   "source": [
    "- **Country**: country\n",
    "- **Year**: year\n",
    "- **Status**: developed or developing country status\n",
    "- **Life Expectancy**: life expectancy age\n",
    "- **Adult Mortality**: general adult mortality rate (regardless of sex) measured as the probability of dying between 15 and 60 years old, per 1000 people within the population\n",
    "- **Infant Deaths**: number of infant deaths per 1000 population\n",
    "- **Alcohol**: alcohol consumption in liters recorded per capita (age 15+)\n",
    "- **Percent expenditure**: percent of GDP per capita spend on health\n",
    "- **Hepatitis B**: percent HepB immunization coverage among 1 year olds\n",
    "- **Measles**: number of reported measles cases per 1000 population\n",
    "- **BMI**: average BMI of entire population\n",
    "- **Under-five Deaths**: number of under five deaths per 1000 population\n",
    "- **Polio**: percent of Pol3 immunization coverage among 1 year olds\n",
    "- **Total expenditure**: percent of total government expenditure spent on health\n",
    "- **Diphtheria**: percent of DTP3 immunization coverage among 1 year olds\n",
    "    - Note: DTP3 is the third dose of the diphtheria, tetanus, and pertussis vaccine, implying that this variable represents children who have completed their first set of this vaccine on time\n",
    "- **HIV/AIDS**: deaths per 1000 live births due to HIV/AIDS for children aged 0-4 years old\n",
    "- **GDP**: GDP in USD\n",
    "- **Population**: population of the country\n",
    "- **thinness 1-19 years**: percentage of prevalence of thinness among children aged 10-19\n",
    "- **thinness 5-9 years**: percentage of prevalence of thinness among children aged 5-9\n",
    "- **income composition**: human development index in terms of income composition of resources\n",
    "- **schooling**: number of years of schooling"
   ]
  },
  {
   "cell_type": "markdown",
   "metadata": {},
   "source": [
    "Unfortunately, there are still some issues with the data.\n",
    "- Infant deaths is listed as the number of infant deaths per 1000 population, however the maximum value is 1800. \n",
    "- The number of measles cases reported per 1000 population has a maximum value of 212,183. \n",
    "- The BMI category still has a very unsettling range, and it physically cannot be correct. \n",
    "- The under-five deaths category is listed as the number of deaths of children under five years old per 1000 population, but the maximum value is 2500. \n",
    "To determine the severity of the issues within each variable, I will look at the distributions via a histogram for each problematic variable. "
   ]
  },
  {
   "cell_type": "code",
   "execution_count": 7,
   "metadata": {},
   "outputs": [
    {
     "data": {
      "image/png": "[encoded data removed]",
      "text/plain": [
       "<Figure size 432x288 with 1 Axes>"
      ]
     },
     "metadata": {
      "needs_background": "light"
     },
     "output_type": "display_data"
    }
   ],
   "source": [
    "infantDeathsHistogram = df['infantDeaths'].hist(bins = 10)"
   ]
  },
  {
   "cell_type": "code",
   "execution_count": 8,
   "metadata": {},
   "outputs": [
    {
     "data": {
      "image/png": "[encoded data removed]",
      "text/plain": [
       "<Figure size 432x288 with 1 Axes>"
      ]
     },
     "metadata": {
      "needs_background": "light"
     },
     "output_type": "display_data"
    }
   ],
   "source": [
    "measlesHistogram = df['measles'].hist(bins = 20)"
   ]
  },
  {
   "cell_type": "code",
   "execution_count": 9,
   "metadata": {},
   "outputs": [
    {
     "data": {
      "image/png": "[encoded data removed]",
      "text/plain": [
       "<Figure size 432x288 with 1 Axes>"
      ]
     },
     "metadata": {
      "needs_background": "light"
     },
     "output_type": "display_data"
    }
   ],
   "source": [
    "BMIHistogram = df['BMI'].hist(bins = 20)"
   ]
  },
  {
   "cell_type": "code",
   "execution_count": 10,
   "metadata": {},
   "outputs": [
    {
     "data": {
      "image/png": "[encoded data removed]",
      "text/plain": [
       "<Figure size 432x288 with 1 Axes>"
      ]
     },
     "metadata": {
      "needs_background": "light"
     },
     "output_type": "display_data"
    }
   ],
   "source": [
    "underFiveDeathsHistogram = df['underFiveDeaths'].hist(bins = 20)"
   ]
  },
  {
   "cell_type": "markdown",
   "metadata": {},
   "source": [
    "From the above histograms, I have decided that since thee skew is very small for the infant deaths and under five deaths variables, I can remove the samples that are above 1000 and continue on with the analysis. Unfortunately, the distribution measles and BMI variables do not allow for the samples to be cut. Because of this, those variables will be removed. "
   ]
  },
  {
   "cell_type": "code",
   "execution_count": 11,
   "metadata": {},
   "outputs": [],
   "source": [
    "df = df[df.infantDeaths < 1000]\n",
    "df = df[df.underFiveDeaths < 1000]"
   ]
  },
  {
   "cell_type": "code",
   "execution_count": 12,
   "metadata": {},
   "outputs": [
    {
     "data": {
      "text/html": [
       "<div>\n",
       "<style scoped>\n",
       "    .dataframe tbody tr th:only-of-type {\n",
       "        vertical-align: middle;\n",
       "    }\n",
       "\n",
       "    .dataframe tbody tr th {\n",
       "        vertical-align: top;\n",
       "    }\n",
       "\n",
       "    .dataframe thead th {\n",
       "        text-align: right;\n",
       "    }\n",
       "</style>\n",
       "<table border=\"1\" class=\"dataframe\">\n",
       "  <thead>\n",
       "    <tr style=\"text-align: right;\">\n",
       "      <th></th>\n",
       "      <th>year</th>\n",
       "      <th>lifeExpectancy</th>\n",
       "      <th>adultMortality</th>\n",
       "      <th>infantDeaths</th>\n",
       "      <th>alcohol</th>\n",
       "      <th>percentageExpenditure</th>\n",
       "      <th>hepatitisB</th>\n",
       "      <th>measles</th>\n",
       "      <th>BMI</th>\n",
       "      <th>underFiveDeaths</th>\n",
       "      <th>polio</th>\n",
       "      <th>totalExpenditure</th>\n",
       "      <th>diphtheria</th>\n",
       "      <th>HIV_AIDS</th>\n",
       "      <th>GDP</th>\n",
       "      <th>population</th>\n",
       "      <th>thinness_10_19</th>\n",
       "      <th>thinness_5-9</th>\n",
       "      <th>incomeCompositionOfResources</th>\n",
       "      <th>schooling</th>\n",
       "    </tr>\n",
       "  </thead>\n",
       "  <tbody>\n",
       "    <tr>\n",
       "      <th>count</th>\n",
       "      <td>2922.000000</td>\n",
       "      <td>2912.000000</td>\n",
       "      <td>2912.000000</td>\n",
       "      <td>2922.000000</td>\n",
       "      <td>2729.000000</td>\n",
       "      <td>2922.000000</td>\n",
       "      <td>2373.000000</td>\n",
       "      <td>2922.000000</td>\n",
       "      <td>2888.000000</td>\n",
       "      <td>2922.000000</td>\n",
       "      <td>2903.000000</td>\n",
       "      <td>2697.000000</td>\n",
       "      <td>2903.000000</td>\n",
       "      <td>2922.000000</td>\n",
       "      <td>2474.000000</td>\n",
       "      <td>2.270000e+03</td>\n",
       "      <td>2888.000000</td>\n",
       "      <td>2888.000000</td>\n",
       "      <td>2755.000000</td>\n",
       "      <td>2759.000000</td>\n",
       "    </tr>\n",
       "    <tr>\n",
       "      <th>mean</th>\n",
       "      <td>2007.518823</td>\n",
       "      <td>69.245845</td>\n",
       "      <td>164.896635</td>\n",
       "      <td>22.986311</td>\n",
       "      <td>4.617486</td>\n",
       "      <td>742.111713</td>\n",
       "      <td>81.172777</td>\n",
       "      <td>2178.471937</td>\n",
       "      <td>38.451593</td>\n",
       "      <td>32.341205</td>\n",
       "      <td>82.621426</td>\n",
       "      <td>5.946974</td>\n",
       "      <td>82.408198</td>\n",
       "      <td>1.750240</td>\n",
       "      <td>7526.134950</td>\n",
       "      <td>9.872569e+06</td>\n",
       "      <td>4.716378</td>\n",
       "      <td>4.742486</td>\n",
       "      <td>0.628004</td>\n",
       "      <td>12.004458</td>\n",
       "    </tr>\n",
       "    <tr>\n",
       "      <th>std</th>\n",
       "      <td>4.613863</td>\n",
       "      <td>9.544872</td>\n",
       "      <td>124.459894</td>\n",
       "      <td>60.620051</td>\n",
       "      <td>4.058234</td>\n",
       "      <td>1992.664154</td>\n",
       "      <td>24.832093</td>\n",
       "      <td>10930.950732</td>\n",
       "      <td>20.021919</td>\n",
       "      <td>87.456561</td>\n",
       "      <td>23.460915</td>\n",
       "      <td>2.502455</td>\n",
       "      <td>23.715108</td>\n",
       "      <td>5.090477</td>\n",
       "      <td>14306.142199</td>\n",
       "      <td>2.618971e+07</td>\n",
       "      <td>4.109086</td>\n",
       "      <td>4.180315</td>\n",
       "      <td>0.211409</td>\n",
       "      <td>3.363982</td>\n",
       "    </tr>\n",
       "    <tr>\n",
       "      <th>min</th>\n",
       "      <td>2000.000000</td>\n",
       "      <td>36.300000</td>\n",
       "      <td>1.000000</td>\n",
       "      <td>0.000000</td>\n",
       "      <td>0.010000</td>\n",
       "      <td>0.000000</td>\n",
       "      <td>1.000000</td>\n",
       "      <td>0.000000</td>\n",
       "      <td>1.000000</td>\n",
       "      <td>0.000000</td>\n",
       "      <td>3.000000</td>\n",
       "      <td>0.370000</td>\n",
       "      <td>2.000000</td>\n",
       "      <td>0.100000</td>\n",
       "      <td>1.681350</td>\n",
       "      <td>3.400000e+01</td>\n",
       "      <td>0.100000</td>\n",
       "      <td>0.100000</td>\n",
       "      <td>0.000000</td>\n",
       "      <td>0.000000</td>\n",
       "    </tr>\n",
       "    <tr>\n",
       "      <th>25%</th>\n",
       "      <td>2004.000000</td>\n",
       "      <td>63.100000</td>\n",
       "      <td>74.000000</td>\n",
       "      <td>0.000000</td>\n",
       "      <td>0.860000</td>\n",
       "      <td>4.642980</td>\n",
       "      <td>77.000000</td>\n",
       "      <td>0.000000</td>\n",
       "      <td>19.500000</td>\n",
       "      <td>0.000000</td>\n",
       "      <td>78.000000</td>\n",
       "      <td>4.260000</td>\n",
       "      <td>78.000000</td>\n",
       "      <td>0.100000</td>\n",
       "      <td>464.195927</td>\n",
       "      <td>1.925278e+05</td>\n",
       "      <td>1.600000</td>\n",
       "      <td>1.500000</td>\n",
       "      <td>0.492000</td>\n",
       "      <td>10.100000</td>\n",
       "    </tr>\n",
       "    <tr>\n",
       "      <th>50%</th>\n",
       "      <td>2008.000000</td>\n",
       "      <td>72.100000</td>\n",
       "      <td>144.000000</td>\n",
       "      <td>3.000000</td>\n",
       "      <td>3.790000</td>\n",
       "      <td>66.212378</td>\n",
       "      <td>92.000000</td>\n",
       "      <td>16.000000</td>\n",
       "      <td>43.800000</td>\n",
       "      <td>4.000000</td>\n",
       "      <td>93.000000</td>\n",
       "      <td>5.780000</td>\n",
       "      <td>93.000000</td>\n",
       "      <td>0.100000</td>\n",
       "      <td>1793.782935</td>\n",
       "      <td>1.363050e+06</td>\n",
       "      <td>3.300000</td>\n",
       "      <td>3.300000</td>\n",
       "      <td>0.678000</td>\n",
       "      <td>12.400000</td>\n",
       "    </tr>\n",
       "    <tr>\n",
       "      <th>75%</th>\n",
       "      <td>2012.000000</td>\n",
       "      <td>75.700000</td>\n",
       "      <td>228.000000</td>\n",
       "      <td>21.000000</td>\n",
       "      <td>7.740000</td>\n",
       "      <td>444.950519</td>\n",
       "      <td>97.000000</td>\n",
       "      <td>342.750000</td>\n",
       "      <td>56.200000</td>\n",
       "      <td>26.000000</td>\n",
       "      <td>97.000000</td>\n",
       "      <td>7.500000</td>\n",
       "      <td>97.000000</td>\n",
       "      <td>0.800000</td>\n",
       "      <td>5955.138462</td>\n",
       "      <td>7.268290e+06</td>\n",
       "      <td>7.100000</td>\n",
       "      <td>7.100000</td>\n",
       "      <td>0.780000</td>\n",
       "      <td>14.300000</td>\n",
       "    </tr>\n",
       "    <tr>\n",
       "      <th>max</th>\n",
       "      <td>2015.000000</td>\n",
       "      <td>89.000000</td>\n",
       "      <td>723.000000</td>\n",
       "      <td>576.000000</td>\n",
       "      <td>17.870000</td>\n",
       "      <td>19479.911610</td>\n",
       "      <td>99.000000</td>\n",
       "      <td>212183.000000</td>\n",
       "      <td>87.300000</td>\n",
       "      <td>943.000000</td>\n",
       "      <td>99.000000</td>\n",
       "      <td>17.600000</td>\n",
       "      <td>99.000000</td>\n",
       "      <td>50.600000</td>\n",
       "      <td>119172.741800</td>\n",
       "      <td>2.581621e+08</td>\n",
       "      <td>22.200000</td>\n",
       "      <td>22.600000</td>\n",
       "      <td>0.948000</td>\n",
       "      <td>20.700000</td>\n",
       "    </tr>\n",
       "  </tbody>\n",
       "</table>\n",
       "</div>"
      ],
      "text/plain": [
       "              year  lifeExpectancy  adultMortality  infantDeaths      alcohol  \\\n",
       "count  2922.000000     2912.000000     2912.000000   2922.000000  2729.000000   \n",
       "mean   2007.518823       69.245845      164.896635     22.986311     4.617486   \n",
       "std       4.613863        9.544872      124.459894     60.620051     4.058234   \n",
       "min    2000.000000       36.300000        1.000000      0.000000     0.010000   \n",
       "25%    2004.000000       63.100000       74.000000      0.000000     0.860000   \n",
       "50%    2008.000000       72.100000      144.000000      3.000000     3.790000   \n",
       "75%    2012.000000       75.700000      228.000000     21.000000     7.740000   \n",
       "max    2015.000000       89.000000      723.000000    576.000000    17.870000   \n",
       "\n",
       "       percentageExpenditure   hepatitisB        measles          BMI  \\\n",
       "count            2922.000000  2373.000000    2922.000000  2888.000000   \n",
       "mean              742.111713    81.172777    2178.471937    38.451593   \n",
       "std              1992.664154    24.832093   10930.950732    20.021919   \n",
       "min                 0.000000     1.000000       0.000000     1.000000   \n",
       "25%                 4.642980    77.000000       0.000000    19.500000   \n",
       "50%                66.212378    92.000000      16.000000    43.800000   \n",
       "75%               444.950519    97.000000     342.750000    56.200000   \n",
       "max             19479.911610    99.000000  212183.000000    87.300000   \n",
       "\n",
       "       underFiveDeaths        polio  totalExpenditure   diphtheria  \\\n",
       "count      2922.000000  2903.000000       2697.000000  2903.000000   \n",
       "mean         32.341205    82.621426          5.946974    82.408198   \n",
       "std          87.456561    23.460915          2.502455    23.715108   \n",
       "min           0.000000     3.000000          0.370000     2.000000   \n",
       "25%           0.000000    78.000000          4.260000    78.000000   \n",
       "50%           4.000000    93.000000          5.780000    93.000000   \n",
       "75%          26.000000    97.000000          7.500000    97.000000   \n",
       "max         943.000000    99.000000         17.600000    99.000000   \n",
       "\n",
       "          HIV_AIDS            GDP    population  thinness_10_19  thinness_5-9  \\\n",
       "count  2922.000000    2474.000000  2.270000e+03     2888.000000   2888.000000   \n",
       "mean      1.750240    7526.134950  9.872569e+06        4.716378      4.742486   \n",
       "std       5.090477   14306.142199  2.618971e+07        4.109086      4.180315   \n",
       "min       0.100000       1.681350  3.400000e+01        0.100000      0.100000   \n",
       "25%       0.100000     464.195927  1.925278e+05        1.600000      1.500000   \n",
       "50%       0.100000    1793.782935  1.363050e+06        3.300000      3.300000   \n",
       "75%       0.800000    5955.138462  7.268290e+06        7.100000      7.100000   \n",
       "max      50.600000  119172.741800  2.581621e+08       22.200000     22.600000   \n",
       "\n",
       "       incomeCompositionOfResources    schooling  \n",
       "count                   2755.000000  2759.000000  \n",
       "mean                       0.628004    12.004458  \n",
       "std                        0.211409     3.363982  \n",
       "min                        0.000000     0.000000  \n",
       "25%                        0.492000    10.100000  \n",
       "50%                        0.678000    12.400000  \n",
       "75%                        0.780000    14.300000  \n",
       "max                        0.948000    20.700000  "
      ]
     },
     "execution_count": 12,
     "metadata": {},
     "output_type": "execute_result"
    }
   ],
   "source": [
    "df.describe()"
   ]
  },
  {
   "cell_type": "code",
   "execution_count": 13,
   "metadata": {},
   "outputs": [
    {
     "name": "stdout",
     "output_type": "stream",
     "text": [
      "Number of rows: 2922\n",
      "Number of columns: 22\n"
     ]
    }
   ],
   "source": [
    "dfrows = len(df.axes[0])\n",
    "dfcols = len(df.axes[1])\n",
    "print(\"Number of rows: \" + str(dfrows))\n",
    "print(\"Number of columns: \" + str(dfcols))"
   ]
  },
  {
   "cell_type": "markdown",
   "metadata": {},
   "source": [
    "After the removal of the infant deaths and under five deaths variables over 1000, one can see that the maximum values make much more sense than before.\n",
    "16 rows were removed from the dataset. "
   ]
  },
  {
   "cell_type": "code",
   "execution_count": 14,
   "metadata": {},
   "outputs": [],
   "source": [
    "del df['BMI']\n",
    "del df['measles']"
   ]
  },
  {
   "cell_type": "markdown",
   "metadata": {},
   "source": [
    "Now that I know what each variable means, I can continue on with more in depth analyis.\n",
    "Next, I will be viewing the frequency of the missing values within the dataset. "
   ]
  },
  {
   "cell_type": "code",
   "execution_count": 15,
   "metadata": {},
   "outputs": [
    {
     "name": "stdout",
     "output_type": "stream",
     "text": [
      "country                           0\n",
      "year                              0\n",
      "status                            0\n",
      "lifeExpectancy                   10\n",
      "adultMortality                   10\n",
      "infantDeaths                      0\n",
      "alcohol                         193\n",
      "percentageExpenditure             0\n",
      "hepatitisB                      549\n",
      "underFiveDeaths                   0\n",
      "polio                            19\n",
      "totalExpenditure                225\n",
      "diphtheria                       19\n",
      "HIV_AIDS                          0\n",
      "GDP                             448\n",
      "population                      652\n",
      "thinness_10_19                   34\n",
      "thinness_5-9                     34\n",
      "incomeCompositionOfResources    167\n",
      "schooling                       163\n",
      "dtype: int64\n"
     ]
    }
   ],
   "source": [
    "nulltable = df.isnull().sum()\n",
    "pd.set_option('display.max_rows', None)\n",
    "print(nulltable)"
   ]
  },
  {
   "cell_type": "markdown",
   "metadata": {},
   "source": [
    "While some of the variables have high zero/missing value counts, these variables still contain a lot of information. The only variables with missing values that I think could prove to be problematic are:\n",
    "- Life Expectancy\n",
    "- GDP\n",
    "\n",
    "Since there are so many variables with missing values, I will be replacing these NaN variables using a forward fill method.\n",
    "Following this, I will be making another null table to make sure that the code worked as expected. "
   ]
  },
  {
   "cell_type": "code",
   "execution_count": 16,
   "metadata": {},
   "outputs": [],
   "source": [
    "df = df.fillna(method='ffill')"
   ]
  },
  {
   "cell_type": "code",
   "execution_count": 17,
   "metadata": {},
   "outputs": [
    {
     "name": "stdout",
     "output_type": "stream",
     "text": [
      "country                         0\n",
      "year                            0\n",
      "status                          0\n",
      "lifeExpectancy                  0\n",
      "adultMortality                  0\n",
      "infantDeaths                    0\n",
      "alcohol                         0\n",
      "percentageExpenditure           0\n",
      "hepatitisB                      0\n",
      "underFiveDeaths                 0\n",
      "polio                           0\n",
      "totalExpenditure                0\n",
      "diphtheria                      0\n",
      "HIV_AIDS                        0\n",
      "GDP                             0\n",
      "population                      0\n",
      "thinness_10_19                  0\n",
      "thinness_5-9                    0\n",
      "incomeCompositionOfResources    0\n",
      "schooling                       0\n",
      "dtype: int64\n"
     ]
    }
   ],
   "source": [
    "afterFillNulltable = df.isnull().sum()\n",
    "pd.set_option('display.max_rows', None)\n",
    "print(afterFillNulltable)"
   ]
  },
  {
   "cell_type": "markdown",
   "metadata": {},
   "source": [
    "Before I can continue on with the creation of the machine learning pipeline, I will look into the distribution of the target variable: life expectancy. "
   ]
  },
  {
   "cell_type": "code",
   "execution_count": 18,
   "metadata": {},
   "outputs": [
    {
     "data": {
      "image/png": "[encoded data removed]",
      "text/plain": [
       "<Figure size 432x288 with 1 Axes>"
      ]
     },
     "metadata": {
      "needs_background": "light"
     },
     "output_type": "display_data"
    }
   ],
   "source": [
    "lifeExpectancyHistogram = df['lifeExpectancy'].hist(bins = 20)"
   ]
  },
  {
   "cell_type": "markdown",
   "metadata": {},
   "source": [
    "From the above histogram, one can see that the distribution of the target variable, life expectancy, is left skewed. This is obviously a good thing as it means that people are living longer."
   ]
  },
  {
   "cell_type": "markdown",
   "metadata": {},
   "source": [
    "#### Step Three - Data Preparation"
   ]
  },
  {
   "cell_type": "markdown",
   "metadata": {},
   "source": [
    "Next, I will be preprocessing the data and applying the KBest feature engineering method"
   ]
  },
  {
   "cell_type": "markdown",
   "metadata": {},
   "source": [
    "I will be using this method to determine which features are most useful within our dataset. Before this algorithm can be used, the categorical variables (country, and country status) must be coded using the Label Encoder function within scikit learn."
   ]
  },
  {
   "cell_type": "code",
   "execution_count": 19,
   "metadata": {},
   "outputs": [],
   "source": [
    "from sklearn import preprocessing\n",
    "le = preprocessing.LabelEncoder()"
   ]
  },
  {
   "cell_type": "markdown",
   "metadata": {},
   "source": [
    "I will begin by encoding the status variable."
   ]
  },
  {
   "cell_type": "code",
   "execution_count": 20,
   "metadata": {},
   "outputs": [],
   "source": [
    "df['status'].value_counts()\n",
    "le.fit(df.status)\n",
    "le.classes_\n",
    "le.transform(df.status)\n",
    "list(le.inverse_transform([0,1]))\n",
    "df['statusLabeled'] = le.transform(df.status)"
   ]
  },
  {
   "cell_type": "code",
   "execution_count": 21,
   "metadata": {},
   "outputs": [
    {
     "name": "stdout",
     "output_type": "stream",
     "text": [
      "The classes of the status variable are: ['Developed' 'Developing']\n"
     ]
    }
   ],
   "source": [
    "print (\"The classes of the status variable are:\", le.classes_)"
   ]
  },
  {
   "cell_type": "markdown",
   "metadata": {},
   "source": [
    "Now the country variable can be encoded."
   ]
  },
  {
   "cell_type": "code",
   "execution_count": 22,
   "metadata": {},
   "outputs": [
    {
     "name": "stdout",
     "output_type": "stream",
     "text": [
      "The classes of the country variable are: ['Afghanistan' 'Albania' 'Algeria' 'Angola' 'Antigua and Barbuda'\n",
      " 'Argentina' 'Armenia' 'Australia' 'Austria' 'Azerbaijan' 'Bahamas'\n",
      " 'Bahrain' 'Bangladesh' 'Barbados' 'Belarus' 'Belgium' 'Belize' 'Benin'\n",
      " 'Bhutan' 'Bolivia (Plurinational State of)' 'Bosnia and Herzegovina'\n",
      " 'Botswana' 'Brazil' 'Brunei Darussalam' 'Bulgaria' 'Burkina Faso'\n",
      " 'Burundi' 'Cabo Verde' 'Cambodia' 'Cameroon' 'Canada'\n",
      " 'Central African Republic' 'Chad' 'Chile' 'China' 'Colombia' 'Comoros'\n",
      " 'Congo' 'Cook Islands' 'Costa Rica' 'Croatia' 'Cuba' 'Cyprus' 'Czechia'\n",
      " \"Côte d'Ivoire\" \"Democratic People's Republic of Korea\"\n",
      " 'Democratic Republic of the Congo' 'Denmark' 'Djibouti' 'Dominica'\n",
      " 'Dominican Republic' 'Ecuador' 'Egypt' 'El Salvador' 'Equatorial Guinea'\n",
      " 'Eritrea' 'Estonia' 'Ethiopia' 'Fiji' 'Finland' 'France' 'Gabon' 'Gambia'\n",
      " 'Georgia' 'Germany' 'Ghana' 'Greece' 'Grenada' 'Guatemala' 'Guinea'\n",
      " 'Guinea-Bissau' 'Guyana' 'Haiti' 'Honduras' 'Hungary' 'Iceland'\n",
      " 'Indonesia' 'Iran (Islamic Republic of)' 'Iraq' 'Ireland' 'Israel'\n",
      " 'Italy' 'Jamaica' 'Japan' 'Jordan' 'Kazakhstan' 'Kenya' 'Kiribati'\n",
      " 'Kuwait' 'Kyrgyzstan' \"Lao People's Democratic Republic\" 'Latvia'\n",
      " 'Lebanon' 'Lesotho' 'Liberia' 'Libya' 'Lithuania' 'Luxembourg'\n",
      " 'Madagascar' 'Malawi' 'Malaysia' 'Maldives' 'Mali' 'Malta'\n",
      " 'Marshall Islands' 'Mauritania' 'Mauritius' 'Mexico'\n",
      " 'Micronesia (Federated States of)' 'Monaco' 'Mongolia' 'Montenegro'\n",
      " 'Morocco' 'Mozambique' 'Myanmar' 'Namibia' 'Nauru' 'Nepal' 'Netherlands'\n",
      " 'New Zealand' 'Nicaragua' 'Niger' 'Nigeria' 'Niue' 'Norway' 'Oman'\n",
      " 'Pakistan' 'Palau' 'Panama' 'Papua New Guinea' 'Paraguay' 'Peru'\n",
      " 'Philippines' 'Poland' 'Portugal' 'Qatar' 'Republic of Korea'\n",
      " 'Republic of Moldova' 'Romania' 'Russian Federation' 'Rwanda'\n",
      " 'Saint Kitts and Nevis' 'Saint Lucia' 'Saint Vincent and the Grenadines'\n",
      " 'Samoa' 'San Marino' 'Sao Tome and Principe' 'Saudi Arabia' 'Senegal'\n",
      " 'Serbia' 'Seychelles' 'Sierra Leone' 'Singapore' 'Slovakia' 'Slovenia'\n",
      " 'Solomon Islands' 'Somalia' 'South Africa' 'South Sudan' 'Spain'\n",
      " 'Sri Lanka' 'Sudan' 'Suriname' 'Swaziland' 'Sweden' 'Switzerland'\n",
      " 'Syrian Arab Republic' 'Tajikistan' 'Thailand'\n",
      " 'The former Yugoslav republic of Macedonia' 'Timor-Leste' 'Togo' 'Tonga'\n",
      " 'Trinidad and Tobago' 'Tunisia' 'Turkey' 'Turkmenistan' 'Tuvalu' 'Uganda'\n",
      " 'Ukraine' 'United Arab Emirates'\n",
      " 'United Kingdom of Great Britain and Northern Ireland'\n",
      " 'United Republic of Tanzania' 'United States of America' 'Uruguay'\n",
      " 'Uzbekistan' 'Vanuatu' 'Venezuela (Bolivarian Republic of)' 'Viet Nam'\n",
      " 'Yemen' 'Zambia' 'Zimbabwe']\n"
     ]
    }
   ],
   "source": [
    "df['country'].value_counts()\n",
    "le.fit(df.country)\n",
    "le.classes_\n",
    "print(\"The classes of the country variable are:\", le.classes_)"
   ]
  },
  {
   "cell_type": "code",
   "execution_count": 23,
   "metadata": {},
   "outputs": [],
   "source": [
    "df['countryLabeled'] = le.transform(df.country)"
   ]
  },
  {
   "cell_type": "code",
   "execution_count": 24,
   "metadata": {},
   "outputs": [
    {
     "data": {
      "text/html": [
       "<div>\n",
       "<style scoped>\n",
       "    .dataframe tbody tr th:only-of-type {\n",
       "        vertical-align: middle;\n",
       "    }\n",
       "\n",
       "    .dataframe tbody tr th {\n",
       "        vertical-align: top;\n",
       "    }\n",
       "\n",
       "    .dataframe thead th {\n",
       "        text-align: right;\n",
       "    }\n",
       "</style>\n",
       "<table border=\"1\" class=\"dataframe\">\n",
       "  <thead>\n",
       "    <tr style=\"text-align: right;\">\n",
       "      <th></th>\n",
       "      <th>year</th>\n",
       "      <th>lifeExpectancy</th>\n",
       "      <th>adultMortality</th>\n",
       "      <th>infantDeaths</th>\n",
       "      <th>alcohol</th>\n",
       "      <th>percentageExpenditure</th>\n",
       "      <th>hepatitisB</th>\n",
       "      <th>underFiveDeaths</th>\n",
       "      <th>polio</th>\n",
       "      <th>totalExpenditure</th>\n",
       "      <th>diphtheria</th>\n",
       "      <th>HIV_AIDS</th>\n",
       "      <th>GDP</th>\n",
       "      <th>population</th>\n",
       "      <th>thinness_10_19</th>\n",
       "      <th>thinness_5-9</th>\n",
       "      <th>incomeCompositionOfResources</th>\n",
       "      <th>schooling</th>\n",
       "      <th>statusLabeled</th>\n",
       "      <th>countryLabeled</th>\n",
       "    </tr>\n",
       "  </thead>\n",
       "  <tbody>\n",
       "    <tr>\n",
       "      <th>count</th>\n",
       "      <td>2922.000000</td>\n",
       "      <td>2922.000000</td>\n",
       "      <td>2922.000000</td>\n",
       "      <td>2922.000000</td>\n",
       "      <td>2922.000000</td>\n",
       "      <td>2922.000000</td>\n",
       "      <td>2922.000000</td>\n",
       "      <td>2922.000000</td>\n",
       "      <td>2922.000000</td>\n",
       "      <td>2922.000000</td>\n",
       "      <td>2922.000000</td>\n",
       "      <td>2922.000000</td>\n",
       "      <td>2922.000000</td>\n",
       "      <td>2.922000e+03</td>\n",
       "      <td>2922.000000</td>\n",
       "      <td>2922.000000</td>\n",
       "      <td>2922.000000</td>\n",
       "      <td>2922.000000</td>\n",
       "      <td>2922.000000</td>\n",
       "      <td>2922.000000</td>\n",
       "    </tr>\n",
       "    <tr>\n",
       "      <th>mean</th>\n",
       "      <td>2007.518823</td>\n",
       "      <td>69.216324</td>\n",
       "      <td>164.916496</td>\n",
       "      <td>22.986311</td>\n",
       "      <td>4.622211</td>\n",
       "      <td>742.111713</td>\n",
       "      <td>75.946270</td>\n",
       "      <td>32.341205</td>\n",
       "      <td>82.377139</td>\n",
       "      <td>5.913713</td>\n",
       "      <td>82.157426</td>\n",
       "      <td>1.750240</td>\n",
       "      <td>7511.939533</td>\n",
       "      <td>1.093298e+07</td>\n",
       "      <td>4.834702</td>\n",
       "      <td>4.876934</td>\n",
       "      <td>0.631866</td>\n",
       "      <td>11.946372</td>\n",
       "      <td>0.824778</td>\n",
       "      <td>94.606776</td>\n",
       "    </tr>\n",
       "    <tr>\n",
       "      <th>std</th>\n",
       "      <td>4.613863</td>\n",
       "      <td>9.557693</td>\n",
       "      <td>124.601557</td>\n",
       "      <td>60.620051</td>\n",
       "      <td>4.050296</td>\n",
       "      <td>1992.664154</td>\n",
       "      <td>28.634928</td>\n",
       "      <td>87.456561</td>\n",
       "      <td>23.670903</td>\n",
       "      <td>2.488732</td>\n",
       "      <td>23.917206</td>\n",
       "      <td>5.090477</td>\n",
       "      <td>13757.132416</td>\n",
       "      <td>2.848113e+07</td>\n",
       "      <td>4.246910</td>\n",
       "      <td>4.362383</td>\n",
       "      <td>0.211388</td>\n",
       "      <td>3.345093</td>\n",
       "      <td>0.380222</td>\n",
       "      <td>55.964908</td>\n",
       "    </tr>\n",
       "    <tr>\n",
       "      <th>min</th>\n",
       "      <td>2000.000000</td>\n",
       "      <td>36.300000</td>\n",
       "      <td>1.000000</td>\n",
       "      <td>0.000000</td>\n",
       "      <td>0.010000</td>\n",
       "      <td>0.000000</td>\n",
       "      <td>1.000000</td>\n",
       "      <td>0.000000</td>\n",
       "      <td>3.000000</td>\n",
       "      <td>0.370000</td>\n",
       "      <td>2.000000</td>\n",
       "      <td>0.100000</td>\n",
       "      <td>1.681350</td>\n",
       "      <td>3.400000e+01</td>\n",
       "      <td>0.100000</td>\n",
       "      <td>0.100000</td>\n",
       "      <td>0.000000</td>\n",
       "      <td>0.000000</td>\n",
       "      <td>0.000000</td>\n",
       "      <td>0.000000</td>\n",
       "    </tr>\n",
       "    <tr>\n",
       "      <th>25%</th>\n",
       "      <td>2004.000000</td>\n",
       "      <td>63.000000</td>\n",
       "      <td>74.000000</td>\n",
       "      <td>0.000000</td>\n",
       "      <td>0.872500</td>\n",
       "      <td>4.642980</td>\n",
       "      <td>66.000000</td>\n",
       "      <td>0.000000</td>\n",
       "      <td>78.000000</td>\n",
       "      <td>4.260000</td>\n",
       "      <td>78.000000</td>\n",
       "      <td>0.100000</td>\n",
       "      <td>457.262368</td>\n",
       "      <td>1.357058e+05</td>\n",
       "      <td>1.600000</td>\n",
       "      <td>1.500000</td>\n",
       "      <td>0.494000</td>\n",
       "      <td>10.100000</td>\n",
       "      <td>1.000000</td>\n",
       "      <td>46.000000</td>\n",
       "    </tr>\n",
       "    <tr>\n",
       "      <th>50%</th>\n",
       "      <td>2008.000000</td>\n",
       "      <td>72.100000</td>\n",
       "      <td>144.000000</td>\n",
       "      <td>3.000000</td>\n",
       "      <td>3.795000</td>\n",
       "      <td>66.212378</td>\n",
       "      <td>89.000000</td>\n",
       "      <td>4.000000</td>\n",
       "      <td>93.000000</td>\n",
       "      <td>5.720000</td>\n",
       "      <td>93.000000</td>\n",
       "      <td>0.100000</td>\n",
       "      <td>1720.754637</td>\n",
       "      <td>1.273296e+06</td>\n",
       "      <td>3.400000</td>\n",
       "      <td>3.400000</td>\n",
       "      <td>0.686000</td>\n",
       "      <td>12.400000</td>\n",
       "      <td>1.000000</td>\n",
       "      <td>93.000000</td>\n",
       "    </tr>\n",
       "    <tr>\n",
       "      <th>75%</th>\n",
       "      <td>2012.000000</td>\n",
       "      <td>75.700000</td>\n",
       "      <td>228.000000</td>\n",
       "      <td>21.000000</td>\n",
       "      <td>7.680000</td>\n",
       "      <td>444.950519</td>\n",
       "      <td>96.000000</td>\n",
       "      <td>26.000000</td>\n",
       "      <td>97.000000</td>\n",
       "      <td>7.440000</td>\n",
       "      <td>97.000000</td>\n",
       "      <td>0.800000</td>\n",
       "      <td>6496.046947</td>\n",
       "      <td>7.235420e+06</td>\n",
       "      <td>7.200000</td>\n",
       "      <td>7.300000</td>\n",
       "      <td>0.791000</td>\n",
       "      <td>14.100000</td>\n",
       "      <td>1.000000</td>\n",
       "      <td>144.000000</td>\n",
       "    </tr>\n",
       "    <tr>\n",
       "      <th>max</th>\n",
       "      <td>2015.000000</td>\n",
       "      <td>89.000000</td>\n",
       "      <td>723.000000</td>\n",
       "      <td>576.000000</td>\n",
       "      <td>17.870000</td>\n",
       "      <td>19479.911610</td>\n",
       "      <td>99.000000</td>\n",
       "      <td>943.000000</td>\n",
       "      <td>99.000000</td>\n",
       "      <td>17.600000</td>\n",
       "      <td>99.000000</td>\n",
       "      <td>50.600000</td>\n",
       "      <td>119172.741800</td>\n",
       "      <td>2.581621e+08</td>\n",
       "      <td>22.200000</td>\n",
       "      <td>22.600000</td>\n",
       "      <td>0.948000</td>\n",
       "      <td>20.700000</td>\n",
       "      <td>1.000000</td>\n",
       "      <td>191.000000</td>\n",
       "    </tr>\n",
       "  </tbody>\n",
       "</table>\n",
       "</div>"
      ],
      "text/plain": [
       "              year  lifeExpectancy  adultMortality  infantDeaths      alcohol  \\\n",
       "count  2922.000000     2922.000000     2922.000000   2922.000000  2922.000000   \n",
       "mean   2007.518823       69.216324      164.916496     22.986311     4.622211   \n",
       "std       4.613863        9.557693      124.601557     60.620051     4.050296   \n",
       "min    2000.000000       36.300000        1.000000      0.000000     0.010000   \n",
       "25%    2004.000000       63.000000       74.000000      0.000000     0.872500   \n",
       "50%    2008.000000       72.100000      144.000000      3.000000     3.795000   \n",
       "75%    2012.000000       75.700000      228.000000     21.000000     7.680000   \n",
       "max    2015.000000       89.000000      723.000000    576.000000    17.870000   \n",
       "\n",
       "       percentageExpenditure   hepatitisB  underFiveDeaths        polio  \\\n",
       "count            2922.000000  2922.000000      2922.000000  2922.000000   \n",
       "mean              742.111713    75.946270        32.341205    82.377139   \n",
       "std              1992.664154    28.634928        87.456561    23.670903   \n",
       "min                 0.000000     1.000000         0.000000     3.000000   \n",
       "25%                 4.642980    66.000000         0.000000    78.000000   \n",
       "50%                66.212378    89.000000         4.000000    93.000000   \n",
       "75%               444.950519    96.000000        26.000000    97.000000   \n",
       "max             19479.911610    99.000000       943.000000    99.000000   \n",
       "\n",
       "       totalExpenditure   diphtheria     HIV_AIDS            GDP  \\\n",
       "count       2922.000000  2922.000000  2922.000000    2922.000000   \n",
       "mean           5.913713    82.157426     1.750240    7511.939533   \n",
       "std            2.488732    23.917206     5.090477   13757.132416   \n",
       "min            0.370000     2.000000     0.100000       1.681350   \n",
       "25%            4.260000    78.000000     0.100000     457.262368   \n",
       "50%            5.720000    93.000000     0.100000    1720.754637   \n",
       "75%            7.440000    97.000000     0.800000    6496.046947   \n",
       "max           17.600000    99.000000    50.600000  119172.741800   \n",
       "\n",
       "         population  thinness_10_19  thinness_5-9  \\\n",
       "count  2.922000e+03     2922.000000   2922.000000   \n",
       "mean   1.093298e+07        4.834702      4.876934   \n",
       "std    2.848113e+07        4.246910      4.362383   \n",
       "min    3.400000e+01        0.100000      0.100000   \n",
       "25%    1.357058e+05        1.600000      1.500000   \n",
       "50%    1.273296e+06        3.400000      3.400000   \n",
       "75%    7.235420e+06        7.200000      7.300000   \n",
       "max    2.581621e+08       22.200000     22.600000   \n",
       "\n",
       "       incomeCompositionOfResources    schooling  statusLabeled  \\\n",
       "count                   2922.000000  2922.000000    2922.000000   \n",
       "mean                       0.631866    11.946372       0.824778   \n",
       "std                        0.211388     3.345093       0.380222   \n",
       "min                        0.000000     0.000000       0.000000   \n",
       "25%                        0.494000    10.100000       1.000000   \n",
       "50%                        0.686000    12.400000       1.000000   \n",
       "75%                        0.791000    14.100000       1.000000   \n",
       "max                        0.948000    20.700000       1.000000   \n",
       "\n",
       "       countryLabeled  \n",
       "count     2922.000000  \n",
       "mean        94.606776  \n",
       "std         55.964908  \n",
       "min          0.000000  \n",
       "25%         46.000000  \n",
       "50%         93.000000  \n",
       "75%        144.000000  \n",
       "max        191.000000  "
      ]
     },
     "execution_count": 24,
     "metadata": {},
     "output_type": "execute_result"
    }
   ],
   "source": [
    "df.describe()"
   ]
  },
  {
   "cell_type": "code",
   "execution_count": 25,
   "metadata": {},
   "outputs": [],
   "source": [
    "del df['country']\n",
    "del df['status']"
   ]
  },
  {
   "cell_type": "markdown",
   "metadata": {},
   "source": [
    "Next, I must assign input features to the varaibles X and y. "
   ]
  },
  {
   "cell_type": "code",
   "execution_count": 26,
   "metadata": {},
   "outputs": [],
   "source": [
    "X = df.iloc[:, df.columns != 'lifeExpectancy']"
   ]
  },
  {
   "cell_type": "code",
   "execution_count": 27,
   "metadata": {},
   "outputs": [],
   "source": [
    "y = df['lifeExpectancy']"
   ]
  },
  {
   "cell_type": "markdown",
   "metadata": {},
   "source": [
    "Before I can use the feature selection method, I must standardize the data. Standardizing the data allows for all possible variables to carry the same weight prior to feature selection. It is necessary to standardize the data in most datasets with a large number of variables that are not easily comparable. For lack of a better phrase, standardizing the data allows for each variable to have an \"equal shot\" at being included in the final model, and overall decreases bias."
   ]
  },
  {
   "cell_type": "code",
   "execution_count": 28,
   "metadata": {},
   "outputs": [],
   "source": [
    "from sklearn.preprocessing import MinMaxScaler"
   ]
  },
  {
   "cell_type": "code",
   "execution_count": 29,
   "metadata": {},
   "outputs": [],
   "source": [
    "scaler = MinMaxScaler(feature_range = (0.1, 0.9))\n",
    "X = scaler.fit_transform(X)"
   ]
  },
  {
   "cell_type": "markdown",
   "metadata": {},
   "source": [
    "I will begin by using the SelectKBest filter method."
   ]
  },
  {
   "cell_type": "code",
   "execution_count": 30,
   "metadata": {},
   "outputs": [],
   "source": [
    "from sklearn.feature_selection import RFE, SelectKBest, chi2, f_classif, f_regression\n",
    "import sklearn.feature_selection\n",
    "from sklearn import svm\n",
    "from sklearn.preprocessing import MinMaxScaler"
   ]
  },
  {
   "cell_type": "code",
   "execution_count": 31,
   "metadata": {},
   "outputs": [],
   "source": [
    "kBest = SelectKBest(score_func= f_regression,\n",
    "                     k= 8\n",
    "                    )"
   ]
  },
  {
   "cell_type": "code",
   "execution_count": 32,
   "metadata": {},
   "outputs": [],
   "source": [
    "kBest = kBest.fit(X, y)\n",
    "features = kBest.transform(X)"
   ]
  },
  {
   "cell_type": "code",
   "execution_count": 33,
   "metadata": {},
   "outputs": [
    {
     "name": "stdout",
     "output_type": "stream",
     "text": [
      "[False  True False False False False False False False  True  True False\n",
      " False  True  True  True  True  True False]\n"
     ]
    }
   ],
   "source": [
    "selectedFeatures = kBest.get_support()\n",
    "print(selectedFeatures)"
   ]
  },
  {
   "cell_type": "markdown",
   "metadata": {},
   "source": [
    "The result of the KBest feature selection algorithm are as follows:\n",
    "- year F\n",
    "- adult mortality T\n",
    "- infant deaths F\n",
    "- alcohol F\n",
    "- percentage expenditure F\n",
    "- hepatitis b F\n",
    "- under five deaths F\n",
    "- polio F\n",
    "- total expenditure F\n",
    "- diphtheria T\n",
    "- hiv T\n",
    "- gdp F\n",
    "- population F\n",
    "- thinness 10-19 T\n",
    "- thinness 5-9 T\n",
    "- income composition of resources T\n",
    "- schooling T\n",
    "- status labeled T\n",
    "- country labeled F"
   ]
  },
  {
   "cell_type": "markdown",
   "metadata": {},
   "source": [
    "Thus, the final eight selected features are:\n",
    "\n",
    "- adult mortality\n",
    "- diphtheria\n",
    "- hiv\n",
    "- thinness 10-19\n",
    "- thinness 5-9\n",
    "- income composition of resources\n",
    "- schooling\n",
    "- status labeled\n"
   ]
  },
  {
   "cell_type": "code",
   "execution_count": 34,
   "metadata": {},
   "outputs": [],
   "source": [
    "dfFeatures = [\"adultMortality\", \"diphtheria\", \"HIV_AIDS\", \n",
    "            \"thinness_10_19\", \"thinness_5-9\", \n",
    "            \"incomeCompositionOfResources\", \"schooling\", \n",
    "            \"statusLabeled\"]"
   ]
  },
  {
   "cell_type": "markdown",
   "metadata": {},
   "source": [
    "#### Step Four - Build the Model"
   ]
  },
  {
   "cell_type": "code",
   "execution_count": 35,
   "metadata": {},
   "outputs": [],
   "source": [
    "import keras\n",
    "from keras.models import Sequential\n",
    "from keras.layers import Dense"
   ]
  },
  {
   "cell_type": "markdown",
   "metadata": {},
   "source": [
    "First, the X and y variable must be specified using the features selected from the previous step."
   ]
  },
  {
   "cell_type": "code",
   "execution_count": 36,
   "metadata": {},
   "outputs": [],
   "source": [
    "X = df[dfFeatures]\n",
    "y = df['lifeExpectancy']"
   ]
  },
  {
   "cell_type": "code",
   "execution_count": 37,
   "metadata": {
    "scrolled": true
   },
   "outputs": [
    {
     "data": {
      "text/plain": [
       "(2922, 8)"
      ]
     },
     "execution_count": 37,
     "metadata": {},
     "output_type": "execute_result"
    }
   ],
   "source": [
    "X.shape"
   ]
  },
  {
   "cell_type": "markdown",
   "metadata": {},
   "source": [
    "X will be standardized."
   ]
  },
  {
   "cell_type": "code",
   "execution_count": 50,
   "metadata": {},
   "outputs": [],
   "source": [
    "scaler = MinMaxScaler(feature_range = (0.1, 0.9))\n",
    "X = scaler.fit_transform(X)"
   ]
  },
  {
   "cell_type": "markdown",
   "metadata": {},
   "source": [
    "The Keras model building technique has a built in split function, however I will split the data myself in case it is needed. "
   ]
  },
  {
   "cell_type": "code",
   "execution_count": 51,
   "metadata": {},
   "outputs": [],
   "source": [
    "from sklearn.model_selection import train_test_split \n",
    "seed = 1234\n",
    "X_train, X_test, y_train, y_test = train_test_split(X, y,\n",
    "                                                    test_size = 0.3 , \n",
    "                                                    random_state = seed,\n",
    "                                                   )"
   ]
  },
  {
   "cell_type": "markdown",
   "metadata": {},
   "source": [
    "Now the feed forward neural network will be created using the Keras package. "
   ]
  },
  {
   "cell_type": "code",
   "execution_count": 52,
   "metadata": {},
   "outputs": [],
   "source": [
    "ffnn_model = Sequential()\n",
    "ffnn_model.add(Dense(12, activation='relu', input_shape=(X.shape[1],)))"
   ]
  },
  {
   "cell_type": "code",
   "execution_count": 53,
   "metadata": {},
   "outputs": [],
   "source": [
    "ffnn_model.add(Dense(8, activation = 'relu'))"
   ]
  },
  {
   "cell_type": "code",
   "execution_count": 54,
   "metadata": {},
   "outputs": [],
   "source": [
    "ffnn_model.add(Dense(5, activation = 'relu'))"
   ]
  },
  {
   "cell_type": "code",
   "execution_count": 55,
   "metadata": {},
   "outputs": [],
   "source": [
    "ffnn_model.add(Dense(1, activation = 'sigmoid'))"
   ]
  },
  {
   "cell_type": "code",
   "execution_count": 56,
   "metadata": {},
   "outputs": [],
   "source": [
    "optimizer = keras.optimizers.Adam(lr = 0.0001)"
   ]
  },
  {
   "cell_type": "code",
   "execution_count": 57,
   "metadata": {},
   "outputs": [],
   "source": [
    "ffnn_model.compile(optimizer = optimizer,\n",
    "                   loss = \"mse\", \n",
    "                   metrics =  \"accuracy\"   \n",
    "                  )"
   ]
  },
  {
   "cell_type": "code",
   "execution_count": 58,
   "metadata": {
    "scrolled": false
   },
   "outputs": [],
   "source": [
    "ffnn_history = ffnn_model.fit(X, y, \n",
    "                              validation_split = 0.1,\n",
    "                              epochs= 150,\n",
    "                              batch_size= 10,\n",
    "                             verbose = 0)"
   ]
  },
  {
   "cell_type": "markdown",
   "metadata": {},
   "source": [
    "The effectiveness of the model will be tested using the loss and MSE information. "
   ]
  },
  {
   "cell_type": "code",
   "execution_count": 59,
   "metadata": {},
   "outputs": [],
   "source": [
    "trainMSE = ffnn_model.evaluate(X_train, y_train, verbose = 0)"
   ]
  },
  {
   "cell_type": "code",
   "execution_count": 60,
   "metadata": {},
   "outputs": [],
   "source": [
    "testMSE = ffnn_model.evaluate(X_test, y_test, verbose = 0)"
   ]
  },
  {
   "cell_type": "code",
   "execution_count": 61,
   "metadata": {},
   "outputs": [
    {
     "name": "stdout",
     "output_type": "stream",
     "text": [
      "Train MSE:  [4751.37890625, 0.0]\n",
      "Test MSE:  [4729.4111328125, 0.0]\n"
     ]
    }
   ],
   "source": [
    "print(\"Train MSE: \", trainMSE)\n",
    "from matplotlib import pyplot\n",
    "print(\"Test MSE: \", testMSE)"
   ]
  },
  {
   "cell_type": "code",
   "execution_count": 62,
   "metadata": {},
   "outputs": [
    {
     "data": {
      "image/png": "[encoded data removed]",
      "text/plain": [
       "<Figure size 432x288 with 1 Axes>"
      ]
     },
     "metadata": {
      "needs_background": "light"
     },
     "output_type": "display_data"
    }
   ],
   "source": [
    "from matplotlib import pyplot\n",
    "pyplot.title('Loss / Mean Squared Error')\n",
    "pyplot.plot(ffnn_history.history['loss'], label='train')\n",
    "pyplot.plot(ffnn_history.history['val_loss'], label='test')\n",
    "pyplot.legend()\n",
    "pyplot.show()"
   ]
  },
  {
   "cell_type": "markdown",
   "metadata": {},
   "source": [
    "From this, we can see that there is something wrong with the model."
   ]
  },
  {
   "cell_type": "markdown",
   "metadata": {},
   "source": [
    "I will try the Keras algorithm a second time using the previously split data."
   ]
  },
  {
   "cell_type": "code",
   "execution_count": 63,
   "metadata": {},
   "outputs": [
    {
     "name": "stdout",
     "output_type": "stream",
     "text": [
      "Train MSE:  [0.0, 4820.08984375]\n",
      "Test MSE:  [0.0, 4797.97705078125]\n"
     ]
    }
   ],
   "source": [
    "Newffnn_model = Sequential()\n",
    "Newffnn_model.add(Dense(12, activation='relu', input_shape=(X.shape[1],)))\n",
    "Newffnn_model.add(Dense(8, activation = 'relu'))\n",
    "Newffnn_model.add(Dense(5, activation = 'relu'))\n",
    "Newffnn_model.add(Dense(1, activation = 'sigmoid'))\n",
    "optimizer = keras.optimizers.Adam(lr = 0.0001)\n",
    "Newffnn_model.compile(optimizer = optimizer,\n",
    "                   loss = \"categorical_crossentropy\", \n",
    "                   metrics =  \"MSE\"   \n",
    "                  )\n",
    "Newffnn_history = ffnn_model.fit(X_train, y_train, \n",
    "                              validation_data = (X_test, y_test),\n",
    "                              epochs= 150,\n",
    "                              batch_size= 10,\n",
    "                             verbose = 0)\n",
    "trainMSE = Newffnn_model.evaluate(X_train, y_train, verbose = 0)\n",
    "testMSE = Newffnn_model.evaluate(X_test, y_test, verbose = 0)\n",
    "print(\"Train MSE: \", trainMSE)\n",
    "print(\"Test MSE: \", testMSE)"
   ]
  },
  {
   "cell_type": "code",
   "execution_count": 64,
   "metadata": {},
   "outputs": [
    {
     "data": {
      "text/html": [
       "<div>\n",
       "<style scoped>\n",
       "    .dataframe tbody tr th:only-of-type {\n",
       "        vertical-align: middle;\n",
       "    }\n",
       "\n",
       "    .dataframe tbody tr th {\n",
       "        vertical-align: top;\n",
       "    }\n",
       "\n",
       "    .dataframe thead th {\n",
       "        text-align: right;\n",
       "    }\n",
       "</style>\n",
       "<table border=\"1\" class=\"dataframe\">\n",
       "  <thead>\n",
       "    <tr style=\"text-align: right;\">\n",
       "      <th></th>\n",
       "      <th>loss</th>\n",
       "      <th>accuracy</th>\n",
       "      <th>val_loss</th>\n",
       "      <th>val_accuracy</th>\n",
       "      <th>epoch</th>\n",
       "    </tr>\n",
       "  </thead>\n",
       "  <tbody>\n",
       "    <tr>\n",
       "      <th>145</th>\n",
       "      <td>4751.377930</td>\n",
       "      <td>0.0</td>\n",
       "      <td>4729.411133</td>\n",
       "      <td>0.0</td>\n",
       "      <td>145</td>\n",
       "    </tr>\n",
       "    <tr>\n",
       "      <th>146</th>\n",
       "      <td>4751.377930</td>\n",
       "      <td>0.0</td>\n",
       "      <td>4729.411133</td>\n",
       "      <td>0.0</td>\n",
       "      <td>146</td>\n",
       "    </tr>\n",
       "    <tr>\n",
       "      <th>147</th>\n",
       "      <td>4751.378418</td>\n",
       "      <td>0.0</td>\n",
       "      <td>4729.411133</td>\n",
       "      <td>0.0</td>\n",
       "      <td>147</td>\n",
       "    </tr>\n",
       "    <tr>\n",
       "      <th>148</th>\n",
       "      <td>4751.377930</td>\n",
       "      <td>0.0</td>\n",
       "      <td>4729.411133</td>\n",
       "      <td>0.0</td>\n",
       "      <td>148</td>\n",
       "    </tr>\n",
       "    <tr>\n",
       "      <th>149</th>\n",
       "      <td>4751.376953</td>\n",
       "      <td>0.0</td>\n",
       "      <td>4729.411133</td>\n",
       "      <td>0.0</td>\n",
       "      <td>149</td>\n",
       "    </tr>\n",
       "  </tbody>\n",
       "</table>\n",
       "</div>"
      ],
      "text/plain": [
       "            loss  accuracy     val_loss  val_accuracy  epoch\n",
       "145  4751.377930       0.0  4729.411133           0.0    145\n",
       "146  4751.377930       0.0  4729.411133           0.0    146\n",
       "147  4751.378418       0.0  4729.411133           0.0    147\n",
       "148  4751.377930       0.0  4729.411133           0.0    148\n",
       "149  4751.376953       0.0  4729.411133           0.0    149"
      ]
     },
     "execution_count": 64,
     "metadata": {},
     "output_type": "execute_result"
    }
   ],
   "source": [
    "Newhist = pd.DataFrame(Newffnn_history.history)\n",
    "Newhist['epoch'] = Newffnn_history.epoch\n",
    "Newhist.tail()"
   ]
  },
  {
   "cell_type": "code",
   "execution_count": 65,
   "metadata": {},
   "outputs": [
    {
     "data": {
      "image/png": "[encoded data removed]",
      "text/plain": [
       "<Figure size 432x288 with 1 Axes>"
      ]
     },
     "metadata": {
      "needs_background": "light"
     },
     "output_type": "display_data"
    }
   ],
   "source": [
    "plt.plot(Newffnn_history.history['loss'], 'b', Newffnn_history.history['val_loss'], 'orange')\n",
    "plt.xlabel('Epoch')\n",
    "plt.ylabel('Loss')\n",
    "plt.legend(['Train', 'Val'], loc='upper right')\n",
    "plt.show()"
   ]
  },
  {
   "cell_type": "markdown",
   "metadata": {},
   "source": [
    "Unfortunately, this appears to be just as bad as the previous alogorithm. "
   ]
  },
  {
   "cell_type": "markdown",
   "metadata": {},
   "source": [
    "Next, I will be using the random forest regressor function to see if that is a better fit for the data. "
   ]
  },
  {
   "cell_type": "code",
   "execution_count": 66,
   "metadata": {},
   "outputs": [],
   "source": [
    "from sklearn.ensemble import RandomForestRegressor"
   ]
  },
  {
   "cell_type": "markdown",
   "metadata": {},
   "source": [
    "Create the classifier"
   ]
  },
  {
   "cell_type": "code",
   "execution_count": 67,
   "metadata": {},
   "outputs": [],
   "source": [
    "rfRegressor = RandomForestRegressor(criterion= \"mse\" ,\n",
    "                                    max_depth= 12,\n",
    "                                    max_features= 8 ,\n",
    "                                    min_samples_split= 50,\n",
    "                                    n_estimators= 50,\n",
    "                                    random_state= 7\n",
    "                                    )"
   ]
  },
  {
   "cell_type": "code",
   "execution_count": 68,
   "metadata": {},
   "outputs": [
    {
     "data": {
      "text/plain": [
       "RandomForestRegressor(max_depth=12, max_features=8, min_samples_split=50,\n",
       "                      n_estimators=50, random_state=7)"
      ]
     },
     "execution_count": 68,
     "metadata": {},
     "output_type": "execute_result"
    }
   ],
   "source": [
    "rfRegressor.fit(X_train, y_train)"
   ]
  },
  {
   "cell_type": "code",
   "execution_count": 70,
   "metadata": {},
   "outputs": [],
   "source": [
    "yPrediction = rfRegressor.predict(X_test)"
   ]
  },
  {
   "cell_type": "markdown",
   "metadata": {},
   "source": [
    "Next, I will evaluate the accuracy of the random forest regressor. "
   ]
  },
  {
   "cell_type": "code",
   "execution_count": 71,
   "metadata": {},
   "outputs": [],
   "source": [
    "yPrediction = rfRegressor.predict(X_test)"
   ]
  },
  {
   "cell_type": "code",
   "execution_count": 72,
   "metadata": {},
   "outputs": [],
   "source": [
    "from sklearn import metrics"
   ]
  },
  {
   "cell_type": "code",
   "execution_count": 73,
   "metadata": {
    "scrolled": true
   },
   "outputs": [
    {
     "name": "stdout",
     "output_type": "stream",
     "text": [
      "Mean Absolute Error: 1.77269832679318\n",
      "Mean Squared Error: 7.209358533332407\n",
      "Root Mean Squared Error: 2.6850248664272005\n"
     ]
    }
   ],
   "source": [
    "print('Mean Absolute Error:', metrics.mean_absolute_error(y_test, yPrediction))\n",
    "print('Mean Squared Error:', metrics.mean_squared_error(y_test, yPrediction))\n",
    "print('Root Mean Squared Error:', np.sqrt(metrics.mean_squared_error(y_test, yPrediction)))"
   ]
  }
 ],
 "metadata": {
  "kernelspec": {
   "display_name": "Python 3",
   "language": "python",
   "name": "python3"
  },
  "language_info": {
   "codemirror_mode": {
    "name": "ipython",
    "version": 3
   },
   "file_extension": ".py",
   "mimetype": "text/x-python",
   "name": "python",
   "nbconvert_exporter": "python",
   "pygments_lexer": "ipython3",
   "version": "3.8.5"
  }
 },
 "nbformat": 4,
 "nbformat_minor": 4
}
